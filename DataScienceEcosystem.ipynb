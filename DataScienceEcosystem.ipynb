{
 "cells": [
  {
   "cell_type": "markdown",
   "id": "2bb9b765-9b73-4318-bfab-0426a6770393",
   "metadata": {},
   "source": [
    "# Data Science Tools and Ecosystem"
   ]
  },
  {
   "cell_type": "markdown",
   "id": "e170076e-93bb-4334-ad83-e86ca6bca526",
   "metadata": {},
   "source": [
    "In this notebook, Data Science Tools and Ecosystem are summarized."
   ]
  },
  {
   "cell_type": "markdown",
   "id": "2dac623a-c880-473c-8b8c-95343cb26cb1",
   "metadata": {},
   "source": [
    "Some of the popular languages that Data Scientists use are:\n",
    "1. Python\n",
    "2. R\n",
    "3. SQL\n",
    "4. Java\n",
    "5. C++ etc.."
   ]
  },
  {
   "cell_type": "markdown",
   "id": "b253ac27-49cd-4443-8696-60d70e525ccc",
   "metadata": {},
   "source": [
    "Some of the commonly used libraries used by Data Scientists include:\n",
    "1. PyTorch\n",
    "2. NumPy\n",
    "3. Tensorflow\n",
    "4. Keras\n",
    "5. Pandas\n",
    "6. Matplotlib\n",
    "7. SciPy\n",
    "8. SciKit-Learn.. etc..\n"
   ]
  },
  {
   "cell_type": "markdown",
   "id": "ca4da895-58dc-4e2c-a497-bfe3059c1da4",
   "metadata": {},
   "source": [
    "|Data Science Tools|\n",
    "|---|\n",
    "|Apache Hadoop|\n",
    "|Tensorflow|\n",
    "|SAS|"
   ]
  },
  {
   "cell_type": "markdown",
   "id": "be8ff90c-a28d-421a-beaf-f7febc765591",
   "metadata": {},
   "source": [
    "### Below are a few examples of evaluating arithmetic expressions in Python"
   ]
  },
  {
   "cell_type": "code",
   "execution_count": 1,
   "id": "66062bea-5a99-485f-adae-d3360e3e6548",
   "metadata": {},
   "outputs": [
    {
     "data": {
      "text/plain": [
       "17"
      ]
     },
     "execution_count": 1,
     "metadata": {},
     "output_type": "execute_result"
    }
   ],
   "source": [
    "#This a simple arithmetic expression to mutiply then add integers\n",
    "(3*4)+5"
   ]
  },
  {
   "cell_type": "code",
   "execution_count": 2,
   "id": "cd8805d8-6e39-4cdd-bf24-15b625bdc366",
   "metadata": {},
   "outputs": [
    {
     "data": {
      "text/plain": [
       "3.3333333333333335"
      ]
     },
     "execution_count": 2,
     "metadata": {},
     "output_type": "execute_result"
    }
   ],
   "source": [
    "#This will convert 200 minutes to hours by diving by 60\n",
    "200/60"
   ]
  },
  {
   "cell_type": "markdown",
   "id": "a9ae9d71-8f29-4a06-bf12-791dec4d7067",
   "metadata": {},
   "source": [
    "__Objective__\n",
    "* List of Popular languages for Data Science\n",
    "* List of Popular Libraries for Data Science\n",
    "* List of Popular Data Science Tools\n",
    "* How to Provide Comments in the Cell"
   ]
  },
  {
   "cell_type": "markdown",
   "id": "de12a807-6547-49bd-814e-209a40f29dbf",
   "metadata": {},
   "source": [
    "## Author\n",
    "Surya"
   ]
  }
 ],
 "metadata": {
  "kernelspec": {
   "display_name": "Python 3 (ipykernel)",
   "language": "python",
   "name": "python3"
  },
  "language_info": {
   "codemirror_mode": {
    "name": "ipython",
    "version": 3
   },
   "file_extension": ".py",
   "mimetype": "text/x-python",
   "name": "python",
   "nbconvert_exporter": "python",
   "pygments_lexer": "ipython3",
   "version": "3.12.0"
  }
 },
 "nbformat": 4,
 "nbformat_minor": 5
}
